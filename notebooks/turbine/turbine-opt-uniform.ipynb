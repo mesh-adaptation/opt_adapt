{
 "cells": [
  {
   "cell_type": "code",
   "execution_count": 1,
   "id": "4ee6584e",
   "metadata": {},
   "outputs": [],
   "source": [
    "%matplotlib notebook"
   ]
  },
  {
   "cell_type": "code",
   "execution_count": 2,
   "id": "8bee6314",
   "metadata": {},
   "outputs": [],
   "source": [
    "import firedrake as fd\n",
    "from firedrake.meshadapt import RiemannianMetric, adapt\n",
    "from firedrake_adjoint import pyadjoint\n",
    "from firedrake.adjoint import get_solve_blocks\n",
    "from pyroteus.metric import *\n",
    "from pyroteus.recovery import *\n",
    "from thetis.log import print_output, INFO"
   ]
  },
  {
   "cell_type": "code",
   "execution_count": 3,
   "id": "24d0aa6d",
   "metadata": {},
   "outputs": [],
   "source": [
    "from turbine import forward_run"
   ]
  },
  {
   "cell_type": "code",
   "execution_count": 4,
   "id": "996f455f",
   "metadata": {},
   "outputs": [],
   "source": [
    "from opt_adapt.opt import OptimisationProgress, minimise"
   ]
  },
  {
   "cell_type": "code",
   "execution_count": 5,
   "id": "f083401a",
   "metadata": {},
   "outputs": [],
   "source": [
    "import logging\n",
    "import matplotlib.pyplot as plt\n",
    "import numpy as np\n",
    "import os\n",
    "from time import perf_counter"
   ]
  },
  {
   "cell_type": "code",
   "execution_count": 6,
   "id": "a8ee364d",
   "metadata": {},
   "outputs": [],
   "source": [
    "rerun = True"
   ]
  },
  {
   "cell_type": "markdown",
   "id": "512639fb",
   "metadata": {},
   "source": [
    "### Step 1: Write functions for initialisation"
   ]
  },
  {
   "cell_type": "code",
   "execution_count": 7,
   "id": "f24382a9",
   "metadata": {},
   "outputs": [],
   "source": [
    "base_tape = pyadjoint.Tape()\n",
    "refined_tape = pyadjoint.Tape()\n",
    "pyadjoint.set_working_tape(base_tape)"
   ]
  },
  {
   "cell_type": "code",
   "execution_count": 8,
   "id": "0fd703f9",
   "metadata": {},
   "outputs": [],
   "source": [
    "tm = fd.TransferManager()\n",
    "\n",
    "def initial_mesh(*args, **kwargs):\n",
    "    n = 2\n",
    "    return fd.RectangleMesh(n*120, n*50, 1200, 500)"
   ]
  },
  {
   "cell_type": "code",
   "execution_count": 9,
   "id": "3746be0e",
   "metadata": {},
   "outputs": [],
   "source": [
    "def initial_control(mesh):\n",
    "    R = fd.FunctionSpace(mesh, \"R\", 0)\n",
    "    return fd.Function(R).assign(250.0)"
   ]
  },
  {
   "cell_type": "markdown",
   "id": "676f60ca",
   "metadata": {},
   "source": [
    "### Step 2. Write functions for solving the forward problem and adapting the mesh"
   ]
  },
  {
   "cell_type": "code",
   "execution_count": 10,
   "id": "e247a49c",
   "metadata": {},
   "outputs": [],
   "source": [
    "def get_state(adjoint=False, tape=base_tape):\n",
    "    \"\"\"\n",
    "    Extract the current state from the tape (velocity and\n",
    "    elevation).\n",
    "    \n",
    "    :kwarg adjoint: If ``True``, return the corresponding\n",
    "        adjoint state variables.\n",
    "    \"\"\"\n",
    "    solve_block = get_solve_blocks()[0]\n",
    "    return solve_block.adj_sol if adjoint else solve_block._outputs[0].saved_output"
   ]
  },
  {
   "cell_type": "code",
   "execution_count": 11,
   "id": "5332989a",
   "metadata": {},
   "outputs": [],
   "source": [
    "def hessian(mesh, **kwargs):\n",
    "    \"\"\"\n",
    "    Recover the Hessian of each component of the state and\n",
    "    intersect them.\n",
    "    \n",
    "    :kwarg adjoint: If ``True``, recover Hessians from the\n",
    "        adjoint state, rather than the forward one.\n",
    "    \"\"\"\n",
    "    uv, eta = get_state(**kwargs).split()\n",
    "    V = fd.FunctionSpace(mesh, uv.ufl_element().family(), uv.ufl_element().degree())\n",
    "    u = fd.interpolate(uv[0], V)\n",
    "    v = fd.interpolate(uv[1], V)\n",
    "    \n",
    "    def hessian_component(f):\n",
    "        \"\"\"\n",
    "        Recover the Hessian of a single component and\n",
    "        scale it so that all of the components are of\n",
    "        consistent metric complexity.\n",
    "        \"\"\"\n",
    "        return space_normalise(hessian_metric(recover_hessian(f)), 1000.0, \"inf\")\n",
    "        \n",
    "    metric = metric_intersection(hessian_component(u), hessian_component(v), hessian_component(eta))\n",
    "    print_output(\"Hessian intersection complete.\")\n",
    "    return metric"
   ]
  },
  {
   "cell_type": "code",
   "execution_count": 12,
   "id": "6e09e514",
   "metadata": {},
   "outputs": [],
   "source": [
    "def adapt_hessian_based(mesh, target=1000.0, norm_order=1.0, **kwargs):\n",
    "    \"\"\"\n",
    "    Adapt the mesh w.r.t. the intersection of the Hessians of\n",
    "    each component of velocity and pressure.\n",
    "    \n",
    "    :kwarg target: Desired metric complexity (continuous\n",
    "        analogue of mesh vertex count).\n",
    "    :kwarg norm_order: Normalisation order :math:`p` for the\n",
    "        :math:`L^p` normalisation routine.\n",
    "    \"\"\"\n",
    "    metric = space_normalise(hessian(mesh), target, norm_order)\n",
    "    enforce_element_constraints(metric, 1.0e-05, 500.0, 1000.0)\n",
    "    print_output(\"Metric construction complete.\")\n",
    "    newmesh = adapt(mesh, RiemannianMetric(mesh).assign(metric))\n",
    "    print_output(\"Mesh adaptation complete.\")\n",
    "    return newmesh"
   ]
  },
  {
   "cell_type": "markdown",
   "id": "d02de23f",
   "metadata": {},
   "source": [
    "### 3. Explore the parameter space"
   ]
  },
  {
   "cell_type": "code",
   "execution_count": 15,
   "id": "6745eef4",
   "metadata": {},
   "outputs": [
    {
     "name": "stdout",
     "output_type": "stream",
     "text": [
      "y-coordinate: 50.00, power output = 3.5336e+05\n",
      "y-coordinate: 54.00, power output = 3.5444e+05\n",
      "y-coordinate: 58.00, power output = 3.5522e+05\n",
      "y-coordinate: 62.00, power output = 3.5582e+05\n",
      "y-coordinate: 66.00, power output = 3.5626e+05\n",
      "y-coordinate: 70.00, power output = 3.5653e+05\n",
      "y-coordinate: 74.00, power output = 3.5726e+05\n",
      "y-coordinate: 78.00, power output = 3.5770e+05\n",
      "y-coordinate: 82.00, power output = 3.5797e+05\n",
      "y-coordinate: 86.00, power output = 3.5810e+05\n",
      "y-coordinate: 90.00, power output = 3.5806e+05\n",
      "y-coordinate: 94.00, power output = 3.5847e+05\n",
      "y-coordinate: 98.00, power output = 3.5860e+05\n",
      "y-coordinate: 102.00, power output = 3.5857e+05\n",
      "y-coordinate: 106.00, power output = 3.5838e+05\n",
      "y-coordinate: 110.00, power output = 3.5804e+05\n",
      "y-coordinate: 114.00, power output = 3.5814e+05\n",
      "y-coordinate: 118.00, power output = 3.5796e+05\n",
      "y-coordinate: 122.00, power output = 3.5762e+05\n",
      "y-coordinate: 126.00, power output = 3.5712e+05\n",
      "y-coordinate: 130.00, power output = 3.5646e+05\n",
      "y-coordinate: 134.00, power output = 3.5624e+05\n",
      "y-coordinate: 138.00, power output = 3.5574e+05\n",
      "y-coordinate: 142.00, power output = 3.5507e+05\n",
      "y-coordinate: 146.00, power output = 3.5422e+05\n",
      "y-coordinate: 150.00, power output = 3.5320e+05\n",
      "y-coordinate: 154.00, power output = 3.5264e+05\n",
      "y-coordinate: 158.00, power output = 3.5178e+05\n",
      "y-coordinate: 162.00, power output = 3.5072e+05\n",
      "y-coordinate: 166.00, power output = 3.4947e+05\n",
      "y-coordinate: 170.00, power output = 3.4802e+05\n",
      "y-coordinate: 174.00, power output = 3.4706e+05\n",
      "y-coordinate: 178.00, power output = 3.4577e+05\n",
      "y-coordinate: 182.00, power output = 3.4426e+05\n",
      "y-coordinate: 186.00, power output = 3.4254e+05\n",
      "y-coordinate: 190.00, power output = 3.4061e+05\n",
      "y-coordinate: 194.00, power output = 3.3922e+05\n",
      "y-coordinate: 198.00, power output = 3.3777e+05\n",
      "y-coordinate: 202.00, power output = 3.3679e+05\n"
     ]
    },
    {
     "ename": "KeyboardInterrupt",
     "evalue": "",
     "output_type": "error",
     "traceback": [
      "\u001b[0;31m---------------------------------------------------------------------------\u001b[0m",
      "\u001b[0;31mKeyboardInterrupt\u001b[0m                         Traceback (most recent call last)",
      "Input \u001b[0;32mIn [15]\u001b[0m, in \u001b[0;36m<module>\u001b[0;34m\u001b[0m\n\u001b[1;32m      6\u001b[0m mesh \u001b[38;5;241m=\u001b[39m initial_mesh()\n\u001b[1;32m      7\u001b[0m R \u001b[38;5;241m=\u001b[39m fd\u001b[38;5;241m.\u001b[39mFunctionSpace(mesh, \u001b[38;5;124m\"\u001b[39m\u001b[38;5;124mR\u001b[39m\u001b[38;5;124m\"\u001b[39m, \u001b[38;5;241m0\u001b[39m)\n\u001b[0;32m----> 8\u001b[0m J \u001b[38;5;241m=\u001b[39m \u001b[43mforward_run\u001b[49m\u001b[43m(\u001b[49m\u001b[43mmesh\u001b[49m\u001b[43m,\u001b[49m\u001b[43m \u001b[49m\u001b[43mfd\u001b[49m\u001b[38;5;241;43m.\u001b[39;49m\u001b[43mFunction\u001b[49m\u001b[43m(\u001b[49m\u001b[43mR\u001b[49m\u001b[43m)\u001b[49m\u001b[38;5;241;43m.\u001b[39;49m\u001b[43massign\u001b[49m\u001b[43m(\u001b[49m\u001b[43mc\u001b[49m\u001b[43m)\u001b[49m\u001b[43m)\u001b[49m[\u001b[38;5;241m0\u001b[39m]\n\u001b[1;32m      9\u001b[0m \u001b[38;5;28mprint\u001b[39m(\u001b[38;5;124mf\u001b[39m\u001b[38;5;124m\"\u001b[39m\u001b[38;5;124my-coordinate: \u001b[39m\u001b[38;5;132;01m{\u001b[39;00mc\u001b[38;5;132;01m:\u001b[39;00m\u001b[38;5;124m.2f\u001b[39m\u001b[38;5;132;01m}\u001b[39;00m\u001b[38;5;124m, power output = \u001b[39m\u001b[38;5;132;01m{\u001b[39;00m\u001b[38;5;241m-\u001b[39mJ\u001b[38;5;132;01m:\u001b[39;00m\u001b[38;5;124m9.4e\u001b[39m\u001b[38;5;132;01m}\u001b[39;00m\u001b[38;5;124m\"\u001b[39m)\n\u001b[1;32m     10\u001b[0m ctrls\u001b[38;5;241m.\u001b[39mappend(c)\n",
      "File \u001b[0;32m~/src/projects/opt-adapt/notebooks/turbine.py:98\u001b[0m, in \u001b[0;36mforward_run\u001b[0;34m(mesh, control)\u001b[0m\n\u001b[1;32m     96\u001b[0m farm_options\u001b[38;5;241m.\u001b[39mturbine_options\u001b[38;5;241m.\u001b[39mdiameter \u001b[38;5;241m=\u001b[39m \u001b[38;5;241m18.0\u001b[39m\n\u001b[1;32m     97\u001b[0m farm_options\u001b[38;5;241m.\u001b[39mturbine_options\u001b[38;5;241m.\u001b[39mthrust_coefficient \u001b[38;5;241m=\u001b[39m Ct\n\u001b[0;32m---> 98\u001b[0m options\u001b[38;5;241m.\u001b[39mtidal_turbine_farms \u001b[38;5;241m=\u001b[39m {\u001b[38;5;124m\"\u001b[39m\u001b[38;5;124meverywhere\u001b[39m\u001b[38;5;124m\"\u001b[39m: farm_options}\n\u001b[1;32m     99\u001b[0m rho \u001b[38;5;241m=\u001b[39m Constant(\u001b[38;5;241m1030.0\u001b[39m)\n\u001b[1;32m    101\u001b[0m \u001b[38;5;66;03m# Apply initial conditions and solve\u001b[39;00m\n",
      "File \u001b[0;32mPETSc/Log.pyx:115\u001b[0m, in \u001b[0;36mpetsc4py.PETSc.Log.EventDecorator.decorator.wrapped_func\u001b[0;34m()\u001b[0m\n",
      "File \u001b[0;32mPETSc/Log.pyx:116\u001b[0m, in \u001b[0;36mpetsc4py.PETSc.Log.EventDecorator.decorator.wrapped_func\u001b[0;34m()\u001b[0m\n",
      "File \u001b[0;32m~/software/firedrake-mmg/src/thetis/thetis/solver2d.py:919\u001b[0m, in \u001b[0;36mFlowSolver2d.iterate\u001b[0;34m(self, update_forcings, export_func)\u001b[0m\n\u001b[1;32m    916\u001b[0m internal_iteration \u001b[38;5;241m=\u001b[39m \u001b[38;5;241m0\u001b[39m\n\u001b[1;32m    918\u001b[0m \u001b[38;5;28;01mwhile\u001b[39;00m \u001b[38;5;28mself\u001b[39m\u001b[38;5;241m.\u001b[39msimulation_time \u001b[38;5;241m<\u001b[39m\u001b[38;5;241m=\u001b[39m \u001b[38;5;28mself\u001b[39m\u001b[38;5;241m.\u001b[39moptions\u001b[38;5;241m.\u001b[39msimulation_end_time \u001b[38;5;241m-\u001b[39m t_epsilon:\n\u001b[0;32m--> 919\u001b[0m     \u001b[38;5;28;43mself\u001b[39;49m\u001b[38;5;241;43m.\u001b[39;49m\u001b[43mtimestepper\u001b[49m\u001b[38;5;241;43m.\u001b[39;49m\u001b[43madvance\u001b[49m\u001b[43m(\u001b[49m\u001b[38;5;28;43mself\u001b[39;49m\u001b[38;5;241;43m.\u001b[39;49m\u001b[43msimulation_time\u001b[49m\u001b[43m,\u001b[49m\u001b[43m \u001b[49m\u001b[43mupdate_forcings\u001b[49m\u001b[43m)\u001b[49m\n\u001b[1;32m    921\u001b[0m     \u001b[38;5;66;03m# Move to next time step\u001b[39;00m\n\u001b[1;32m    922\u001b[0m     \u001b[38;5;28mself\u001b[39m\u001b[38;5;241m.\u001b[39miteration \u001b[38;5;241m+\u001b[39m\u001b[38;5;241m=\u001b[39m \u001b[38;5;241m1\u001b[39m\n",
      "File \u001b[0;32mPETSc/Log.pyx:115\u001b[0m, in \u001b[0;36mpetsc4py.PETSc.Log.EventDecorator.decorator.wrapped_func\u001b[0;34m()\u001b[0m\n",
      "File \u001b[0;32mPETSc/Log.pyx:116\u001b[0m, in \u001b[0;36mpetsc4py.PETSc.Log.EventDecorator.decorator.wrapped_func\u001b[0;34m()\u001b[0m\n",
      "File \u001b[0;32m~/software/firedrake-mmg/src/thetis/thetis/timeintegrator.py:304\u001b[0m, in \u001b[0;36mSteadyState.advance\u001b[0;34m(self, t, update_forcings)\u001b[0m\n\u001b[1;32m    302\u001b[0m \u001b[38;5;28;01mif\u001b[39;00m update_forcings \u001b[38;5;129;01mis\u001b[39;00m \u001b[38;5;129;01mnot\u001b[39;00m \u001b[38;5;28;01mNone\u001b[39;00m:\n\u001b[1;32m    303\u001b[0m     update_forcings(t \u001b[38;5;241m+\u001b[39m \u001b[38;5;28mself\u001b[39m\u001b[38;5;241m.\u001b[39mdt)\n\u001b[0;32m--> 304\u001b[0m \u001b[38;5;28;43mself\u001b[39;49m\u001b[38;5;241;43m.\u001b[39;49m\u001b[43msolver\u001b[49m\u001b[38;5;241;43m.\u001b[39;49m\u001b[43msolve\u001b[49m\u001b[43m(\u001b[49m\u001b[43m)\u001b[49m\n",
      "File \u001b[0;32mPETSc/Log.pyx:115\u001b[0m, in \u001b[0;36mpetsc4py.PETSc.Log.EventDecorator.decorator.wrapped_func\u001b[0;34m()\u001b[0m\n",
      "File \u001b[0;32mPETSc/Log.pyx:116\u001b[0m, in \u001b[0;36mpetsc4py.PETSc.Log.EventDecorator.decorator.wrapped_func\u001b[0;34m()\u001b[0m\n",
      "File \u001b[0;32m~/software/firedrake-mmg/src/firedrake/firedrake/adjoint/variational_solver.py:90\u001b[0m, in \u001b[0;36mNonlinearVariationalSolverMixin._ad_annotate_solve.<locals>.wrapper\u001b[0;34m(self, **kwargs)\u001b[0m\n\u001b[1;32m     87\u001b[0m     tape\u001b[38;5;241m.\u001b[39madd_block(block)\n\u001b[1;32m     89\u001b[0m \u001b[38;5;28;01mwith\u001b[39;00m stop_annotating():\n\u001b[0;32m---> 90\u001b[0m     out \u001b[38;5;241m=\u001b[39m \u001b[43msolve\u001b[49m\u001b[43m(\u001b[49m\u001b[38;5;28;43mself\u001b[39;49m\u001b[43m,\u001b[49m\u001b[43m \u001b[49m\u001b[38;5;241;43m*\u001b[39;49m\u001b[38;5;241;43m*\u001b[39;49m\u001b[43mkwargs\u001b[49m\u001b[43m)\u001b[49m\n\u001b[1;32m     92\u001b[0m \u001b[38;5;28;01mif\u001b[39;00m annotate:\n\u001b[1;32m     93\u001b[0m     block\u001b[38;5;241m.\u001b[39madd_output(\u001b[38;5;28mself\u001b[39m\u001b[38;5;241m.\u001b[39m_ad_problem\u001b[38;5;241m.\u001b[39m_ad_u\u001b[38;5;241m.\u001b[39mcreate_block_variable())\n",
      "File \u001b[0;32m~/software/firedrake-mmg/src/firedrake/firedrake/variational_solver.py:278\u001b[0m, in \u001b[0;36mNonlinearVariationalSolver.solve\u001b[0;34m(self, bounds)\u001b[0m\n\u001b[1;32m    275\u001b[0m         \u001b[38;5;28;01mfor\u001b[39;00m ctx \u001b[38;5;129;01min\u001b[39;00m chain((\u001b[38;5;28mself\u001b[39m\u001b[38;5;241m.\u001b[39minserted_options(), dmhooks\u001b[38;5;241m.\u001b[39madd_hooks(dm, \u001b[38;5;28mself\u001b[39m, appctx\u001b[38;5;241m=\u001b[39m\u001b[38;5;28mself\u001b[39m\u001b[38;5;241m.\u001b[39m_ctx)),\n\u001b[1;32m    276\u001b[0m                          \u001b[38;5;28mself\u001b[39m\u001b[38;5;241m.\u001b[39m_transfer_operators):\n\u001b[1;32m    277\u001b[0m             stack\u001b[38;5;241m.\u001b[39menter_context(ctx)\n\u001b[0;32m--> 278\u001b[0m         \u001b[38;5;28;43mself\u001b[39;49m\u001b[38;5;241;43m.\u001b[39;49m\u001b[43msnes\u001b[49m\u001b[38;5;241;43m.\u001b[39;49m\u001b[43msolve\u001b[49m\u001b[43m(\u001b[49m\u001b[38;5;28;43;01mNone\u001b[39;49;00m\u001b[43m,\u001b[49m\u001b[43m \u001b[49m\u001b[43mwork\u001b[49m\u001b[43m)\u001b[49m\n\u001b[1;32m    279\u001b[0m     work\u001b[38;5;241m.\u001b[39mcopy(u)\n\u001b[1;32m    280\u001b[0m \u001b[38;5;28mself\u001b[39m\u001b[38;5;241m.\u001b[39m_setup \u001b[38;5;241m=\u001b[39m \u001b[38;5;28;01mTrue\u001b[39;00m\n",
      "File \u001b[0;32mPETSc/SNES.pyx:590\u001b[0m, in \u001b[0;36mpetsc4py.PETSc.SNES.solve\u001b[0;34m()\u001b[0m\n",
      "File \u001b[0;32mPETSc/petscsnes.pxi:320\u001b[0m, in \u001b[0;36mpetsc4py.PETSc.SNES_Function\u001b[0;34m()\u001b[0m\n",
      "File \u001b[0;32m~/software/firedrake-mmg/src/firedrake/firedrake/solving_utils.py:397\u001b[0m, in \u001b[0;36m_SNESContext.form_function\u001b[0;34m(snes, X, F)\u001b[0m\n\u001b[1;32m    392\u001b[0m         splits\u001b[38;5;241m.\u001b[39mappend(\u001b[38;5;28mtype\u001b[39m(\u001b[38;5;28mself\u001b[39m)(new_problem, mat_type\u001b[38;5;241m=\u001b[39m\u001b[38;5;28mself\u001b[39m\u001b[38;5;241m.\u001b[39mmat_type, pmat_type\u001b[38;5;241m=\u001b[39m\u001b[38;5;28mself\u001b[39m\u001b[38;5;241m.\u001b[39mpmat_type,\n\u001b[1;32m    393\u001b[0m                                  appctx\u001b[38;5;241m=\u001b[39m\u001b[38;5;28mself\u001b[39m\u001b[38;5;241m.\u001b[39mappctx,\n\u001b[1;32m    394\u001b[0m                                  transfer_manager\u001b[38;5;241m=\u001b[39m\u001b[38;5;28mself\u001b[39m\u001b[38;5;241m.\u001b[39mtransfer_manager))\n\u001b[1;32m    395\u001b[0m     \u001b[38;5;28;01mreturn\u001b[39;00m \u001b[38;5;28mself\u001b[39m\u001b[38;5;241m.\u001b[39m_splits\u001b[38;5;241m.\u001b[39msetdefault(\u001b[38;5;28mtuple\u001b[39m(fields), splits)\n\u001b[0;32m--> 397\u001b[0m \u001b[38;5;129m@staticmethod\u001b[39m\n\u001b[1;32m    398\u001b[0m \u001b[38;5;28;01mdef\u001b[39;00m \u001b[38;5;21mform_function\u001b[39m(snes, X, F):\n\u001b[1;32m    399\u001b[0m     \u001b[38;5;124mr\u001b[39m\u001b[38;5;124;03m\"\"\"Form the residual for this problem\u001b[39;00m\n\u001b[1;32m    400\u001b[0m \n\u001b[1;32m    401\u001b[0m \u001b[38;5;124;03m    :arg snes: a PETSc SNES object\u001b[39;00m\n\u001b[1;32m    402\u001b[0m \u001b[38;5;124;03m    :arg X: the current guess (a Vec)\u001b[39;00m\n\u001b[1;32m    403\u001b[0m \u001b[38;5;124;03m    :arg F: the residual at X (a Vec)\u001b[39;00m\n\u001b[1;32m    404\u001b[0m \u001b[38;5;124;03m    \"\"\"\u001b[39;00m\n\u001b[1;32m    405\u001b[0m     dm \u001b[38;5;241m=\u001b[39m snes\u001b[38;5;241m.\u001b[39mgetDM()\n",
      "\u001b[0;31mKeyboardInterrupt\u001b[0m: "
     ]
    }
   ],
   "source": [
    "if rerun or not os.path.exists(\"controls_uniform.npy\") or not os.path.exists(\"qois_uniform.npy\"):\n",
    "    ctrls = []\n",
    "    qois = []\n",
    "    for c in np.linspace(50, 450, 101):\n",
    "        with pyadjoint.stop_annotating():\n",
    "            mesh = initial_mesh()\n",
    "            R = fd.FunctionSpace(mesh, \"R\", 0)\n",
    "            J = forward_run(mesh, fd.Function(R).assign(c))[0]\n",
    "            print(f\"y-coordinate: {c:.2f}, power output = {-J:9.4e}\")\n",
    "            ctrls.append(c)\n",
    "            qois.append(J)\n",
    "            np.save(\"controls_uniform\", ctrls)\n",
    "            np.save(\"qois_uniform\", qois)"
   ]
  },
  {
   "cell_type": "markdown",
   "id": "8d2fbbc0",
   "metadata": {},
   "source": [
    "### 4. Run the hybrid PDE-constrained optimisation / mesh adaptation routine"
   ]
  },
  {
   "cell_type": "code",
   "execution_count": null,
   "id": "0a677de4",
   "metadata": {},
   "outputs": [],
   "source": [
    "if rerun or not (os.path.exists(\"m_progress_uniform.npy\") and os.path.exists(\"J_progress_uniform.npy\")):\n",
    "    cpu_timestamp = perf_counter()\n",
    "    op = OptimisationProgress()\n",
    "    g_opt = minimise(forward_run, initial_mesh(), initial_control, options={'disp': 1, 'lr': 0.01}, op=op)\n",
    "    print(f\"Uniform optimisation completed in {perf_counter()-cpu_timestamp:.2f}s\")\n",
    "    np.save(\"m_progress_uniform\", np.array([m.dat.data[0] for m in op.m_progress]).flatten())\n",
    "    np.save(\"J_progress_uniform\", op.J_progress)\n",
    "    np.save(\"dJdm_progress_uniform\", np.array([dj.dat.data[0] for dj in op.dJdm_progress]).flatten())"
   ]
  },
  {
   "cell_type": "code",
   "execution_count": null,
   "id": "77767973",
   "metadata": {},
   "outputs": [],
   "source": [
    "# logger = logging.getLogger(\"thetis_output\")\n",
    "# logger.setLevel(INFO)"
   ]
  },
  {
   "cell_type": "code",
   "execution_count": null,
   "id": "eb1ca178",
   "metadata": {},
   "outputs": [],
   "source": [
    "if rerun or not (os.path.exists(\"m_progress_hessian.npy\") and os.path.exists(\"J_progress_hessian.npy\")):\n",
    "    cpu_timestamp = perf_counter()\n",
    "    op = OptimisationProgress()\n",
    "    options = {\n",
    "        'disp': 2,\n",
    "        'lr': 0.01,\n",
    "        'target_base': 1000,\n",
    "        'target_inc': 200,\n",
    "        'target_max': 4000,\n",
    "    }\n",
    "    g_opt = minimise(forward_run, initial_mesh(), initial_control, adapt_fn=adapt_hessian_based, options=options, op=op)\n",
    "    print(f\"Uniform optimisation completed in {perf_counter()-cpu_timestamp:.2f}s\")\n",
    "    np.save(\"m_progress_hessian\", np.array([m.dat.data[0] for m in op.m_progress]).flatten())\n",
    "    np.save(\"J_progress_hessian\", op.J_progress)\n",
    "    np.save(\"dJdm_progress_hessian\", np.array([dj.dat.data[0] for dj in op.dJdm_progress]).flatten())"
   ]
  },
  {
   "cell_type": "code",
   "execution_count": null,
   "id": "6acf69da",
   "metadata": {},
   "outputs": [],
   "source": [
    "def plot_progress(axes, method, gradients=False, **kwargs):\n",
    "    \"\"\"\n",
    "    Plot the progress of an optimisation run, in terms\n",
    "    of control value vs. objective functional value.\n",
    "    \n",
    "    :arg axes: the figure axes to plot on\n",
    "    :arg method: the optimisation method\n",
    "    :kwarg gradients: should gradients also be plotted?\n",
    "    :kwargs: to be passed to matplotlib's plotting functions\n",
    "    \"\"\"\n",
    "    m = np.load(f\"m_progress_{method}.npy\")\n",
    "    J = -np.load(f\"J_progress_{method}.npy\")/1000\n",
    "    print(f\"Converged offset ({method}): {abs(250 - m[-1]):.2f}m offset => {J[-1]:.2f} kW\")\n",
    "    axes.plot(m, J, 'x', **kwargs)\n",
    "    kwargs.pop(\"label\")\n",
    "    axes.arrow(x=m[-1], y=J[-1]+20, dx=0, dy=-10, width=1.5, **kwargs)\n",
    "    if gradients:\n",
    "        dJdm = -np.load(f\"dJdm_progress_{method}.npy\")/1000\n",
    "        dc = 5.0\n",
    "        for c, f, g in zip(m, J, dJdm):\n",
    "            x = np.array([c - dc, c + dc])\n",
    "            axes.plot(x, f + g*(x - c), '-', **kwargs)"
   ]
  },
  {
   "cell_type": "code",
   "execution_count": null,
   "id": "f73d4baa",
   "metadata": {},
   "outputs": [],
   "source": [
    "fig, axes = plt.subplots()\n",
    "axes.plot(np.load(\"controls_uniform.npy\"), np.abs(np.load(\"qois_uniform.npy\"))/1000, color='C0')\n",
    "plot_progress(axes, \"uniform\", label=\"Fixed mesh\", color='C1', gradients=False)\n",
    "plot_progress(axes, \"hessian\", label=\"Hessian-based\", color='C2', gradients=False)\n",
    "\n",
    "axes.set_xlabel('$y$-coordinate of second turbine')\n",
    "axes.set_ylabel('Power output ($\\mathrm{kW}$)')\n",
    "axes.set_xlim([80, 260])\n",
    "axes.legend()\n",
    "axes.grid(True, which='both')\n",
    "plt.tight_layout()"
   ]
  },
  {
   "cell_type": "markdown",
   "id": "87cb2a78",
   "metadata": {},
   "source": [
    "### To do:\n",
    "\n",
    "* Support more advanced optimisation routines.\n",
    "* Support constrained optimisation methods - here we would really like $y_2\\in[\\epsilon, 250]$."
   ]
  }
 ],
 "metadata": {
  "kernelspec": {
   "display_name": "Python 3 (ipykernel)",
   "language": "python",
   "name": "python3"
  },
  "language_info": {
   "codemirror_mode": {
    "name": "ipython",
    "version": 3
   },
   "file_extension": ".py",
   "mimetype": "text/x-python",
   "name": "python",
   "nbconvert_exporter": "python",
   "pygments_lexer": "ipython3",
   "version": "3.8.10"
  }
 },
 "nbformat": 4,
 "nbformat_minor": 5
}
